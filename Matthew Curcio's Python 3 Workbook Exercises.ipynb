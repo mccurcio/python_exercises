{
 "cells": [
  {
   "cell_type": "markdown",
   "metadata": {},
   "source": [
    "# Matthew Curcio's Python 3 Workbook Exercises"
   ]
  },
  {
   "cell_type": "markdown",
   "metadata": {},
   "source": [
    "__The Python Workbook: A Brief Introduction with Exercises and Solutions__, ISBN 978-3-319-14240-1 (eBook)  \n",
    "By Ben Stephenson"
   ]
  },
  {
   "cell_type": "markdown",
   "metadata": {},
   "source": [
    "### Introduction"
   ]
  },
  {
   "cell_type": "markdown",
   "metadata": {},
   "source": [
    "Purpose\n",
    "* Generate output with print statements\n",
    "* Read input, including casting that input to the appropriate type\n",
    "* Perform calculations involving integers and floating point numbers using Python operators like +, -, *, /, //, %, and **\n",
    "* Call functions residing in the math module\n",
    "* Control how output is displayed using format specifiers"
   ]
  },
  {
   "cell_type": "code",
   "execution_count": 11,
   "metadata": {},
   "outputs": [
    {
     "name": "stdout",
     "output_type": "stream",
     "text": [
      "Matthew Curcio\n",
      "85 Blaisdell Ave\n",
      "Pawtucket, RI  02860\n"
     ]
    }
   ],
   "source": [
    "# Exercise 1: Mailing Address\n",
    "\n",
    "print(\"Matthew Curcio\\n85 Blaisdell Ave\\nPawtucket, RI  02860\")"
   ]
  },
  {
   "cell_type": "code",
   "execution_count": 3,
   "metadata": {},
   "outputs": [
    {
     "name": "stdout",
     "output_type": "stream",
     "text": [
      "Enter your name:\n",
      "Matt\n",
      "Hello, Matt\n"
     ]
    }
   ],
   "source": [
    "# Exercise 2: Hello\n",
    "\n",
    "print('Enter your name:')\n",
    "x = input()\n",
    "print('Hello, ' + x) "
   ]
  },
  {
   "cell_type": "code",
   "execution_count": 7,
   "metadata": {
    "scrolled": true
   },
   "outputs": [
    {
     "name": "stdout",
     "output_type": "stream",
     "text": [
      "Enter the length:\n",
      "20\n",
      "Enter the width:\n",
      "30\n",
      "Your room is 600.0 square feet.\n"
     ]
    }
   ],
   "source": [
    "# Exercise 3: Fin the area of a room\n",
    "\n",
    "print('Enter the length:')\n",
    "l = float(input())\n",
    "print('Enter the width:')\n",
    "w = float(input())\n",
    "area = l*w\n",
    "print('Your room is ' + str(area), 'square feet.') "
   ]
  },
  {
   "cell_type": "code",
   "execution_count": 9,
   "metadata": {},
   "outputs": [
    {
     "name": "stdout",
     "output_type": "stream",
     "text": [
      "Enter the length:\n",
      "24534\n",
      "Enter the width:\n",
      "10865\n",
      "Your field is 6119.419421487603 acres.\n"
     ]
    }
   ],
   "source": [
    "# Exercise 4: Area of a farmers field\n",
    "\n",
    "print('Enter the length:')\n",
    "l = float(input())\n",
    "print('Enter the width:')\n",
    "w = float(input())\n",
    "area = l*w/43560\n",
    "print('Your field is ' + str(area), 'acres.') "
   ]
  },
  {
   "cell_type": "code",
   "execution_count": 14,
   "metadata": {},
   "outputs": [
    {
     "name": "stdout",
     "output_type": "stream",
     "text": [
      "Enter the number of 1L bottles:\n",
      "44\n",
      "Enter the number of 2L bottles:\n",
      "23\n",
      "Your deposit is $10.15 .\n"
     ]
    }
   ],
   "source": [
    "# Exercise 5: Bottle Deposits\n",
    "\n",
    "print('Enter the number of 1L bottles:')\n",
    "num_small_bottles = float(input())\n",
    "print('Enter the number of 2L bottles:')\n",
    "num_large_bottles = float(input())\n",
    "\n",
    "deposit = num_small_bottles*0.1 + num_large_bottles*0.25\n",
    "\n",
    "formatted_deposit = (round(deposit, 3))\n",
    "\n",
    "print('Your deposit is $' + str((round(deposit, 3))), '.') "
   ]
  },
  {
   "cell_type": "code",
   "execution_count": 1,
   "metadata": {},
   "outputs": [
    {
     "name": "stdout",
     "output_type": "stream",
     "text": [
      "Enter the cost of your meal:\n",
      "100\n",
      "The meal tax is $18.0 .\n",
      "A 15% tip is $15.0 .\n",
      "The Grand total is $133.0 .\n"
     ]
    }
   ],
   "source": [
    "# Exercise 6: Calculate Tax and Tip\n",
    "\n",
    "print('Enter the cost of your meal:')\n",
    "meal_cost = float(input())\n",
    "\n",
    "meal_tax = round(0.18*meal_cost, 2)\n",
    "tip = round(0.15*meal_cost, 2)\n",
    "grand_total = meal_cost + meal_tax + tip\n",
    "\n",
    "print('The meal tax is $' + str(meal_tax), '.') \n",
    "print('A 15% tip is $' +str(tip), '.')\n",
    "print('The Grand total is $' + str(grand_total), '.')"
   ]
  },
  {
   "cell_type": "code",
   "execution_count": 26,
   "metadata": {},
   "outputs": [
    {
     "name": "stdout",
     "output_type": "stream",
     "text": [
      "Enter the value of N:\n",
      "10\n",
      "The summation is 55 .\n"
     ]
    }
   ],
   "source": [
    "# Exercise 7: Sum of the First n Positive Integers\n",
    "\n",
    "print('Enter the value of N:')\n",
    "n = int(input())\n",
    "\n",
    "sum = int(n*(n+1)/2)\n",
    "\n",
    "print('The summation is ' + str(sum), '.')"
   ]
  },
  {
   "cell_type": "code",
   "execution_count": 29,
   "metadata": {
    "scrolled": true
   },
   "outputs": [
    {
     "name": "stdout",
     "output_type": "stream",
     "text": [
      "Enter the number of widgets:\n",
      "44\n",
      "Enter the number of gizmo:\n",
      "23\n",
      "The package total weight is 5876 grams.\n"
     ]
    }
   ],
   "source": [
    "# Exercise 8: Widgets and Gizmos\n",
    "\n",
    "widget = 75 #grams\n",
    "gizmo = 112 #grams\n",
    "\n",
    "print('Enter the number of widgets:')\n",
    "num_widgets = int(input())\n",
    "print('Enter the number of gizmo:')\n",
    "num_gizmos = int(input())\n",
    "\n",
    "total_wt = num_widgets*75 + num_gizmos*112\n",
    "\n",
    "print('The package total weight is ' + str(total_wt), 'grams.') "
   ]
  },
  {
   "cell_type": "code",
   "execution_count": 36,
   "metadata": {},
   "outputs": [
    {
     "name": "stdout",
     "output_type": "stream",
     "text": [
      "POINT #1\n",
      "Enter the latitude, t1:\n",
      "40\n",
      "Enter the longitude, g1:\n",
      "70\n",
      "POINT #2\n",
      "Enter the latitude, t2:\n",
      "30\n",
      "Enter the longitude, g2:\n",
      "90\n",
      "Distance = 2126.700972864183 km.\n"
     ]
    }
   ],
   "source": [
    "# Exercise 12: Distance Between Two Points on Earth\n",
    "import math\n",
    "\n",
    "# Let (t_1, g_1) and (t_2, g_2) be the latitude and longitude of two points\n",
    "print('POINT #1')\n",
    "print('Enter the latitude, t1:')\n",
    "t1 = float(input())*3.1415/180\n",
    "print('Enter the longitude, g1:')\n",
    "g1 = float(input())*3.1415/180\n",
    "      \n",
    "print('POINT #2')\n",
    "print('Enter the latitude, t2:')\n",
    "t2 = float(input())*3.1415/180\n",
    "print('Enter the longitude, g2:')\n",
    "g2 = float(input())*3.1415/180\n",
    "\n",
    "distance = 6371.01 * math.acos(math.sin(t1) * math.sin(t2) + math.cos(t1) * math.cos(t2) * math.cos(g1 - g2))\n",
    "print('Distance = ' + str(distance), 'km.')"
   ]
  },
  {
   "cell_type": "code",
   "execution_count": 6,
   "metadata": {},
   "outputs": [
    {
     "name": "stdout",
     "output_type": "stream",
     "text": [
      "Enter the height\n",
      "100\n",
      "Final velocity =  44.271887242357316 m/s\n"
     ]
    }
   ],
   "source": [
    "# Exercise 19: Free Fall\n",
    "# What is final velocity of object falling a height, d?\n",
    "# vf = sqrt(vi^2 + 2ad), where a = 9.8m/s^2\n",
    "\n",
    "print('Enter the height')\n",
    "d = float(input())\n",
    "#print('Enter the initial velocity:')\n",
    "vi = 0\n",
    "vf = (vi**2 + 2.0*9.8*d)**(1/2)\n",
    "print('Final velocity = ', str(vf), 'm/s')"
   ]
  },
  {
   "cell_type": "code",
   "execution_count": null,
   "metadata": {},
   "outputs": [],
   "source": [
    "# Exercise 19B: Free Fall\n",
    "# How tall is a drop if you count the seconds?\n",
    "# d = vf^2/2a, whrere vf=?\n",
    "\n",
    "print('Enter the fall time (s)')\n",
    "time = float(input())\n",
    "\n"
   ]
  },
  {
   "cell_type": "code",
   "execution_count": 4,
   "metadata": {},
   "outputs": [
    {
     "name": "stdout",
     "output_type": "stream",
     "text": [
      "Enter the number of sides:\n",
      "10\n",
      "Enter length of side:\n",
      "5\n",
      "Area =  192.36128550256726\n"
     ]
    }
   ],
   "source": [
    "# Exercise 23: Area of a Regular Polygon\n",
    "\n",
    "import math\n",
    "\n",
    "print('Enter the number of sides:')\n",
    "n1 = int(input())\n",
    "print('Enter length of side:')\n",
    "s1 = float(input())\n",
    "\n",
    "area = (n1 * s1**2)/(4*math.tan(3.1415/n1))\n",
    "print('Area = ', str(area))"
   ]
  },
  {
   "cell_type": "code",
   "execution_count": 8,
   "metadata": {},
   "outputs": [
    {
     "name": "stdout",
     "output_type": "stream",
     "text": [
      "Enter Temperature (C):\n",
      "-23\n",
      "Enter wind speed (km/s):\n",
      "88\n",
      "WCI = -43.0\n"
     ]
    }
   ],
   "source": [
    "# Exercise 28: Wind Chill \n",
    "# WCI = 13.12 + 0.6215 * Ta − 11.37 * V**0.16 + 0.3965 * Ta V**0.16\n",
    "\n",
    "print('Enter Temperature (C):')\n",
    "Ta = float(input())\n",
    "print('Enter wind speed (km/s):')\n",
    "V1 = float(input())\n",
    "\n",
    "WCI = 13.12 + 0.6215 * Ta - 11.37 * V1**0.16 + 0.3965 * Ta * V1**0.16\n",
    "WCI = round(WCI, 0)\n",
    "\n",
    "print('WCI = ' +str(WCI))"
   ]
  },
  {
   "cell_type": "code",
   "execution_count": 14,
   "metadata": {},
   "outputs": [
    {
     "name": "stdout",
     "output_type": "stream",
     "text": [
      "Enter Integer:\n",
      "4321\n",
      "Your sum is:  10 .\n"
     ]
    }
   ],
   "source": [
    "# Exercise 31: Sum of a digits in an 4 digit integer\n",
    "\n",
    "import math\n",
    "\n",
    "print('Enter Integer:')\n",
    "int_num = int(input())\n",
    "thousands = math.trunc(int_num/1000)\n",
    "#print(thousands)\n",
    "hundreds = math.trunc((int_num - 1000*thousands)/100)\n",
    "#print(hundreds)\n",
    "tens = math.trunc((int_num - 1000*thousands - 100*hundreds)/10)\n",
    "#print(tens)\n",
    "ones = int_num - 1000*thousands - 100*hundreds - 10*tens\n",
    "#print(ones)\n",
    "sum_digits = thousands + hundreds + tens + ones\n",
    "print('Your sum is: ', sum_digits, '.')"
   ]
  },
  {
   "cell_type": "markdown",
   "metadata": {},
   "source": [
    "# End Chapter 1"
   ]
  },
  {
   "cell_type": "code",
   "execution_count": null,
   "metadata": {},
   "outputs": [],
   "source": []
  }
 ],
 "metadata": {
  "kernelspec": {
   "display_name": "Python 3",
   "language": "python",
   "name": "python3"
  },
  "language_info": {
   "codemirror_mode": {
    "name": "ipython",
    "version": 3
   },
   "file_extension": ".py",
   "mimetype": "text/x-python",
   "name": "python",
   "nbconvert_exporter": "python",
   "pygments_lexer": "ipython3",
   "version": "3.7.6"
  }
 },
 "nbformat": 4,
 "nbformat_minor": 4
}
