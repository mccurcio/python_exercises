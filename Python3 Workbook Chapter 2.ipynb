{
 "cells": [
  {
   "cell_type": "markdown",
   "metadata": {},
   "source": [
    "# Matthew Curcio's Python3 Workbook Chapter 2"
   ]
  },
  {
   "cell_type": "markdown",
   "metadata": {},
   "source": [
    "__The Python Workbook: A Brief Introduction with Exercises and Solutions__, ISBN 978-3-319-14240-1 (eBook)  \n",
    "By Ben Stephenson"
   ]
  },
  {
   "cell_type": "markdown",
   "metadata": {},
   "source": [
    "Purpose\n",
    "\n",
    "- Make a decision with an if statement\n",
    "- Select one of two alternatives with an if-else statement\n",
    "- Select from one of several alternatives by using an if-elif or if-elif-else statement\n",
    "- Construct a complex condition for an if statement that includes the Boolean operators and, or and not\n",
    "- Nest an if statement within the body of another if statement"
   ]
  },
  {
   "cell_type": "code",
   "execution_count": 5,
   "metadata": {},
   "outputs": [
    {
     "name": "stdout",
     "output_type": "stream",
     "text": [
      "Enter your number:\n",
      "445\n",
      "Your number is Odd.\n"
     ]
    }
   ],
   "source": [
    "# Exercise 34: Even or Odd?\n",
    "\n",
    "print('Enter your number:')\n",
    "int_num = int(input())\n",
    "if int_num % 2 == 1:\n",
    "  print(\"Your number is Odd.\")\n",
    "else:\n",
    "  print(\"Your number is Even.\")"
   ]
  },
  {
   "cell_type": "code",
   "execution_count": 4,
   "metadata": {},
   "outputs": [
    {
     "name": "stdout",
     "output_type": "stream",
     "text": [
      "Enter your Letter:\n",
      "a\n",
      "Put the lime in the coconut.\n"
     ]
    }
   ],
   "source": [
    "# Exercise 36: Vowel or Consonant\n",
    "\n",
    "print('Enter your Letter:')\n",
    "one_letter = str(input())\n",
    "if one_letter in (\"a\",\"e\",\"i\",\"o\",\"u\"):\n",
    "  print(\"Put the lime in the coconut.\")\n",
    "elif one_letter in (\"y\"):\n",
    "  print(\"Sometimes Y\")\n",
    "else:\n",
    "  print(\"Consonant.\")"
   ]
  },
  {
   "cell_type": "code",
   "execution_count": 7,
   "metadata": {},
   "outputs": [
    {
     "name": "stdout",
     "output_type": "stream",
     "text": [
      "Enter the month to get # of days:\n",
      "February\n",
      "February has 28 days in a common year and 29 days in leap years.\n"
     ]
    }
   ],
   "source": [
    "# Exercise 38: Month Name to Number of Days\n",
    "'''\n",
    "January   - 31 days\n",
    "February  - 28 days in a common year and 29 days in leap years\n",
    "March     - 31 days\n",
    "April     - 30 days\n",
    "May       - 31 days\n",
    "June      - 30 days\n",
    "July      - 31 days\n",
    "August    - 31 days\n",
    "September - 30 days\n",
    "October   - 31 days\n",
    "November  - 30 days\n",
    "December  - 31 days\n",
    "'''\n",
    "\n",
    "print('Enter the month to get # of days:')\n",
    "one_month = str(input())\n",
    "\n",
    "if one_month in (\"December\",\"October\",\"August\",\"July\",\"May\", \"March\", \"January\"):\n",
    "  print(\"Your month has 31 days.\")\n",
    "elif one_month in (\"November\", \"September\", \"June\", \"April\"):\n",
    "  print(\"Your month has 30 days.\")\n",
    "else:\n",
    "  print(\"February has 28 days in a common year and 29 days in leap years.\")"
   ]
  },
  {
   "cell_type": "code",
   "execution_count": 14,
   "metadata": {},
   "outputs": [
    {
     "name": "stdout",
     "output_type": "stream",
     "text": [
      "Enter the decibel level:\n",
      "41\n",
      "This is like a Quiet room.\n"
     ]
    }
   ],
   "source": [
    "# Exercise 39: Sound Levels\n",
    "\n",
    "print('Enter the decibel level:')\n",
    "decibel_level = int(input())\n",
    "\n",
    "if decibel_level >= 130:\n",
    "  print(\"Louder than a Jackhammer\")\n",
    "elif decibel_level >= 106:\n",
    "  print(\"Louder than a Gas lawnmower\")\n",
    "elif decibel_level >= 70:\n",
    "  print(\"Louder than a Alarm clock\")\n",
    "else:\n",
    "  print(\"This is like a Quiet room.\")"
   ]
  },
  {
   "cell_type": "code",
   "execution_count": 18,
   "metadata": {},
   "outputs": [
    {
     "name": "stdout",
     "output_type": "stream",
     "text": [
      "Enter the your note:\n",
      "F5\n",
      "That is not a note I recognize.\n"
     ]
    }
   ],
   "source": [
    "# Exercise 41: Note To Frequency\n",
    "'''\n",
    "Note | Frequency (Hz)\n",
    "C4 | 261.63\n",
    "D4 | 293.66\n",
    "E4 | 329.63\n",
    "F4 | 349.23\n",
    "G4 | 392.00\n",
    "A4 | 440.00\n",
    "B4 | 493.88\n",
    "'''\n",
    "\n",
    "# Part 1\n",
    "print('Enter the your note:')\n",
    "the_note = str(input())\n",
    "\n",
    "if the_note == 'C4':\n",
    "  print(\"Frequency = 261.63 Hz\")\n",
    "elif the_note == 'D4':\n",
    "  print(\"Frequency = 293.66 Hz\")\n",
    "elif the_note == 'E4':\n",
    "  print(\"Frequency = 329.63 Hz\")\n",
    "elif the_note == 'F4':\n",
    "  print(\"Frequency = 349.23 Hz\")\n",
    "elif the_note == 'G4':\n",
    "  print(\"Frequency = 392.00 Hz\")\n",
    "elif the_note == 'A4':\n",
    "  print(\"Frequency = 440.00 Hz\")\n",
    "elif the_note == 'B4':\n",
    "  print(\"Frequency = 493.88 Hz\")\n",
    "else:\n",
    "  print(\"That is not a note I recognize.\")\n",
    "\n",
    "# Part 2\n"
   ]
  },
  {
   "cell_type": "code",
   "execution_count": null,
   "metadata": {},
   "outputs": [],
   "source": []
  },
  {
   "cell_type": "code",
   "execution_count": null,
   "metadata": {},
   "outputs": [],
   "source": []
  },
  {
   "cell_type": "code",
   "execution_count": null,
   "metadata": {},
   "outputs": [],
   "source": []
  },
  {
   "cell_type": "code",
   "execution_count": null,
   "metadata": {},
   "outputs": [],
   "source": []
  },
  {
   "cell_type": "code",
   "execution_count": null,
   "metadata": {},
   "outputs": [],
   "source": []
  },
  {
   "cell_type": "code",
   "execution_count": null,
   "metadata": {},
   "outputs": [],
   "source": []
  },
  {
   "cell_type": "code",
   "execution_count": null,
   "metadata": {},
   "outputs": [],
   "source": []
  },
  {
   "cell_type": "code",
   "execution_count": null,
   "metadata": {},
   "outputs": [],
   "source": []
  }
 ],
 "metadata": {
  "kernelspec": {
   "display_name": "Python 3",
   "language": "python",
   "name": "python3"
  },
  "language_info": {
   "codemirror_mode": {
    "name": "ipython",
    "version": 3
   },
   "file_extension": ".py",
   "mimetype": "text/x-python",
   "name": "python",
   "nbconvert_exporter": "python",
   "pygments_lexer": "ipython3",
   "version": "3.7.6"
  }
 },
 "nbformat": 4,
 "nbformat_minor": 4
}
