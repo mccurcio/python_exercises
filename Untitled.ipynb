{
 "cells": [
  {
   "cell_type": "code",
   "execution_count": 1,
   "metadata": {},
   "outputs": [
    {
     "name": "stdout",
     "output_type": "stream",
     "text": [
      "Requirement already satisfied: jupyter_contrib_nbextensions in /home/mcc/anaconda3/lib/python3.7/site-packages (0.5.1)\n",
      "Requirement already satisfied: traitlets>=4.1 in /home/mcc/anaconda3/lib/python3.7/site-packages (from jupyter_contrib_nbextensions) (4.3.3)\n",
      "Requirement already satisfied: ipython-genutils in /home/mcc/anaconda3/lib/python3.7/site-packages (from jupyter_contrib_nbextensions) (0.2.0)\n",
      "Requirement already satisfied: jupyter-core in /home/mcc/anaconda3/lib/python3.7/site-packages (from jupyter_contrib_nbextensions) (4.6.1)\n",
      "Requirement already satisfied: tornado in /home/mcc/anaconda3/lib/python3.7/site-packages (from jupyter_contrib_nbextensions) (6.0.3)\n",
      "Requirement already satisfied: jupyter-latex-envs>=1.3.8 in /home/mcc/anaconda3/lib/python3.7/site-packages (from jupyter_contrib_nbextensions) (1.4.6)\n",
      "Requirement already satisfied: pyyaml in /home/mcc/anaconda3/lib/python3.7/site-packages (from jupyter_contrib_nbextensions) (5.3)\n",
      "Requirement already satisfied: jupyter-contrib-core>=0.3.3 in /home/mcc/anaconda3/lib/python3.7/site-packages (from jupyter_contrib_nbextensions) (0.3.3)\n",
      "Requirement already satisfied: lxml in /home/mcc/anaconda3/lib/python3.7/site-packages (from jupyter_contrib_nbextensions) (4.5.0)\n",
      "Requirement already satisfied: jupyter-nbextensions-configurator>=0.4.0 in /home/mcc/anaconda3/lib/python3.7/site-packages (from jupyter_contrib_nbextensions) (0.4.1)\n",
      "Requirement already satisfied: notebook>=4.0 in /home/mcc/anaconda3/lib/python3.7/site-packages (from jupyter_contrib_nbextensions) (6.0.3)\n",
      "Requirement already satisfied: nbconvert>=4.2 in /home/mcc/anaconda3/lib/python3.7/site-packages (from jupyter_contrib_nbextensions) (5.6.1)\n",
      "Requirement already satisfied: jupyter-highlight-selected-word>=0.1.1 in /home/mcc/anaconda3/lib/python3.7/site-packages (from jupyter_contrib_nbextensions) (0.2.0)\n",
      "Requirement already satisfied: decorator in /home/mcc/anaconda3/lib/python3.7/site-packages (from traitlets>=4.1->jupyter_contrib_nbextensions) (4.4.1)\n",
      "Requirement already satisfied: six in /home/mcc/anaconda3/lib/python3.7/site-packages (from traitlets>=4.1->jupyter_contrib_nbextensions) (1.14.0)\n",
      "Requirement already satisfied: ipython in /home/mcc/anaconda3/lib/python3.7/site-packages (from jupyter-latex-envs>=1.3.8->jupyter_contrib_nbextensions) (7.12.0)\n",
      "Requirement already satisfied: setuptools in /home/mcc/anaconda3/lib/python3.7/site-packages (from jupyter-contrib-core>=0.3.3->jupyter_contrib_nbextensions) (45.2.0.post20200210)\n",
      "Requirement already satisfied: nbformat in /home/mcc/anaconda3/lib/python3.7/site-packages (from notebook>=4.0->jupyter_contrib_nbextensions) (5.0.4)\n",
      "Requirement already satisfied: pyzmq>=17 in /home/mcc/anaconda3/lib/python3.7/site-packages (from notebook>=4.0->jupyter_contrib_nbextensions) (18.1.1)\n",
      "Requirement already satisfied: Send2Trash in /home/mcc/anaconda3/lib/python3.7/site-packages (from notebook>=4.0->jupyter_contrib_nbextensions) (1.5.0)\n",
      "Requirement already satisfied: jinja2 in /home/mcc/anaconda3/lib/python3.7/site-packages (from notebook>=4.0->jupyter_contrib_nbextensions) (2.11.1)\n",
      "Requirement already satisfied: terminado>=0.8.1 in /home/mcc/anaconda3/lib/python3.7/site-packages (from notebook>=4.0->jupyter_contrib_nbextensions) (0.8.3)\n",
      "Requirement already satisfied: prometheus-client in /home/mcc/anaconda3/lib/python3.7/site-packages (from notebook>=4.0->jupyter_contrib_nbextensions) (0.7.1)\n",
      "Requirement already satisfied: ipykernel in /home/mcc/anaconda3/lib/python3.7/site-packages (from notebook>=4.0->jupyter_contrib_nbextensions) (5.1.4)\n",
      "Requirement already satisfied: jupyter-client>=5.3.4 in /home/mcc/anaconda3/lib/python3.7/site-packages (from notebook>=4.0->jupyter_contrib_nbextensions) (5.3.4)\n",
      "Requirement already satisfied: pandocfilters>=1.4.1 in /home/mcc/anaconda3/lib/python3.7/site-packages (from nbconvert>=4.2->jupyter_contrib_nbextensions) (1.4.2)\n",
      "Requirement already satisfied: defusedxml in /home/mcc/anaconda3/lib/python3.7/site-packages (from nbconvert>=4.2->jupyter_contrib_nbextensions) (0.6.0)\n",
      "Requirement already satisfied: bleach in /home/mcc/anaconda3/lib/python3.7/site-packages (from nbconvert>=4.2->jupyter_contrib_nbextensions) (3.1.0)\n",
      "Requirement already satisfied: pygments in /home/mcc/anaconda3/lib/python3.7/site-packages (from nbconvert>=4.2->jupyter_contrib_nbextensions) (2.5.2)\n",
      "Requirement already satisfied: mistune<2,>=0.8.1 in /home/mcc/anaconda3/lib/python3.7/site-packages (from nbconvert>=4.2->jupyter_contrib_nbextensions) (0.8.4)\n",
      "Requirement already satisfied: testpath in /home/mcc/anaconda3/lib/python3.7/site-packages (from nbconvert>=4.2->jupyter_contrib_nbextensions) (0.4.4)\n",
      "Requirement already satisfied: entrypoints>=0.2.2 in /home/mcc/anaconda3/lib/python3.7/site-packages (from nbconvert>=4.2->jupyter_contrib_nbextensions) (0.3)\n",
      "Requirement already satisfied: jedi>=0.10 in /home/mcc/anaconda3/lib/python3.7/site-packages (from ipython->jupyter-latex-envs>=1.3.8->jupyter_contrib_nbextensions) (0.14.1)\n",
      "Requirement already satisfied: prompt-toolkit!=3.0.0,!=3.0.1,<3.1.0,>=2.0.0 in /home/mcc/anaconda3/lib/python3.7/site-packages (from ipython->jupyter-latex-envs>=1.3.8->jupyter_contrib_nbextensions) (3.0.3)\n",
      "Requirement already satisfied: pickleshare in /home/mcc/anaconda3/lib/python3.7/site-packages (from ipython->jupyter-latex-envs>=1.3.8->jupyter_contrib_nbextensions) (0.7.5)\n",
      "Requirement already satisfied: pexpect; sys_platform != \"win32\" in /home/mcc/anaconda3/lib/python3.7/site-packages (from ipython->jupyter-latex-envs>=1.3.8->jupyter_contrib_nbextensions) (4.8.0)\n",
      "Requirement already satisfied: backcall in /home/mcc/anaconda3/lib/python3.7/site-packages (from ipython->jupyter-latex-envs>=1.3.8->jupyter_contrib_nbextensions) (0.1.0)\n",
      "Requirement already satisfied: jsonschema!=2.5.0,>=2.4 in /home/mcc/anaconda3/lib/python3.7/site-packages (from nbformat->notebook>=4.0->jupyter_contrib_nbextensions) (3.2.0)\n",
      "Requirement already satisfied: MarkupSafe>=0.23 in /home/mcc/anaconda3/lib/python3.7/site-packages (from jinja2->notebook>=4.0->jupyter_contrib_nbextensions) (1.1.1)\n",
      "Requirement already satisfied: python-dateutil>=2.1 in /home/mcc/anaconda3/lib/python3.7/site-packages (from jupyter-client>=5.3.4->notebook>=4.0->jupyter_contrib_nbextensions) (2.8.1)\n",
      "Requirement already satisfied: webencodings in /home/mcc/anaconda3/lib/python3.7/site-packages (from bleach->nbconvert>=4.2->jupyter_contrib_nbextensions) (0.5.1)\n",
      "Requirement already satisfied: parso>=0.5.0 in /home/mcc/anaconda3/lib/python3.7/site-packages (from jedi>=0.10->ipython->jupyter-latex-envs>=1.3.8->jupyter_contrib_nbextensions) (0.5.2)\n",
      "Requirement already satisfied: wcwidth in /home/mcc/anaconda3/lib/python3.7/site-packages (from prompt-toolkit!=3.0.0,!=3.0.1,<3.1.0,>=2.0.0->ipython->jupyter-latex-envs>=1.3.8->jupyter_contrib_nbextensions) (0.1.8)\n",
      "Requirement already satisfied: ptyprocess>=0.5 in /home/mcc/anaconda3/lib/python3.7/site-packages (from pexpect; sys_platform != \"win32\"->ipython->jupyter-latex-envs>=1.3.8->jupyter_contrib_nbextensions) (0.6.0)\n",
      "Requirement already satisfied: importlib-metadata; python_version < \"3.8\" in /home/mcc/anaconda3/lib/python3.7/site-packages (from jsonschema!=2.5.0,>=2.4->nbformat->notebook>=4.0->jupyter_contrib_nbextensions) (1.5.0)\n",
      "Requirement already satisfied: attrs>=17.4.0 in /home/mcc/anaconda3/lib/python3.7/site-packages (from jsonschema!=2.5.0,>=2.4->nbformat->notebook>=4.0->jupyter_contrib_nbextensions) (19.3.0)\n",
      "Requirement already satisfied: pyrsistent>=0.14.0 in /home/mcc/anaconda3/lib/python3.7/site-packages (from jsonschema!=2.5.0,>=2.4->nbformat->notebook>=4.0->jupyter_contrib_nbextensions) (0.15.7)\n",
      "Requirement already satisfied: zipp>=0.5 in /home/mcc/anaconda3/lib/python3.7/site-packages (from importlib-metadata; python_version < \"3.8\"->jsonschema!=2.5.0,>=2.4->nbformat->notebook>=4.0->jupyter_contrib_nbextensions) (2.2.0)\n",
      "\u001b[32m[I 15:20:06 InstallContribNbextensionsApp]\u001b[m jupyter contrib nbextension install \n",
      "\u001b[32m[I 15:20:06 InstallContribNbextensionsApp]\u001b[m Installing jupyter_contrib_nbextensions nbextension files to jupyter data directory\n",
      "\u001b[32m[I 15:20:06 InstallContribNbextensionsApp]\u001b[m Installing /home/mcc/anaconda3/lib/python3.7/site-packages/jupyter_contrib_nbextensions/nbextensions/contrib_nbextensions_help_item -> contrib_nbextensions_help_item\n",
      "Traceback (most recent call last):\n",
      "  File \"/home/mcc/anaconda3/bin/jupyter-contrib\", line 8, in <module>\n",
      "    sys.exit(main())\n",
      "  File \"/home/mcc/anaconda3/lib/python3.7/site-packages/jupyter_core/application.py\", line 268, in launch_instance\n",
      "    return super(JupyterApp, cls).launch_instance(argv=argv, **kwargs)\n",
      "  File \"/home/mcc/anaconda3/lib/python3.7/site-packages/traitlets/config/application.py\", line 664, in launch_instance\n",
      "    app.start()\n",
      "  File \"/home/mcc/anaconda3/lib/python3.7/site-packages/jupyter_contrib_core/application.py\", line 50, in start\n",
      "    super(JupyterContribApp, self).start()\n",
      "  File \"/home/mcc/anaconda3/lib/python3.7/site-packages/jupyter_core/application.py\", line 257, in start\n",
      "    self.subapp.start()\n",
      "  File \"/home/mcc/anaconda3/lib/python3.7/site-packages/jupyter_contrib_nbextensions/application.py\", line 231, in start\n",
      "    super(ContribNbextensionsApp, self).start()\n",
      "  File \"/home/mcc/anaconda3/lib/python3.7/site-packages/jupyter_core/application.py\", line 257, in start\n",
      "    self.subapp.start()\n",
      "  File \"/home/mcc/anaconda3/lib/python3.7/site-packages/jupyter_contrib_nbextensions/application.py\", line 178, in start\n",
      "    toggle_install_files(self._toggle_value, **kwargs_files)\n",
      "  File \"/home/mcc/anaconda3/lib/python3.7/site-packages/jupyter_contrib_nbextensions/install.py\", line 75, in toggle_install_files\n",
      "    mod.__name__, overwrite=overwrite, symlink=symlink, **kwargs)\n",
      "  File \"/home/mcc/anaconda3/lib/python3.7/site-packages/notebook/nbextensions.py\", line 220, in install_nbextension_python\n",
      "    destination=dest, logger=logger\n",
      "  File \"/home/mcc/anaconda3/lib/python3.7/site-packages/notebook/nbextensions.py\", line 121, in install_nbextension\n",
      "    ensure_dir_exists(nbext)\n",
      "  File \"/home/mcc/anaconda3/lib/python3.7/site-packages/jupyter_core/utils/__init__.py\", line 13, in ensure_dir_exists\n",
      "    os.makedirs(path, mode=mode)\n",
      "  File \"/home/mcc/anaconda3/lib/python3.7/os.py\", line 211, in makedirs\n",
      "    makedirs(head, exist_ok=exist_ok)\n",
      "  File \"/home/mcc/anaconda3/lib/python3.7/os.py\", line 221, in makedirs\n",
      "    mkdir(name, mode)\n",
      "PermissionError: [Errno 13] Permission denied: '/usr/local/share/jupyter'\n"
     ]
    },
    {
     "name": "stdout",
     "output_type": "stream",
     "text": [
      "Note: you may need to restart the kernel to use updated packages.\n"
     ]
    }
   ],
   "source": [
    "pip install jupyter_contrib_nbextensions && jupyter contrib nbextension install "
   ]
  },
  {
   "cell_type": "code",
   "execution_count": null,
   "metadata": {},
   "outputs": [],
   "source": []
  }
 ],
 "metadata": {
  "kernelspec": {
   "display_name": "Python 3",
   "language": "python",
   "name": "python3"
  },
  "language_info": {
   "codemirror_mode": {
    "name": "ipython",
    "version": 3
   },
   "file_extension": ".py",
   "mimetype": "text/x-python",
   "name": "python",
   "nbconvert_exporter": "python",
   "pygments_lexer": "ipython3",
   "version": "3.7.6"
  }
 },
 "nbformat": 4,
 "nbformat_minor": 4
}
